{
 "cells": [
  {
   "cell_type": "code",
   "execution_count": 4,
   "metadata": {
    "collapsed": true
   },
   "outputs": [],
   "source": [
    "import numpy as np\n",
    "import statistics as st\n",
    "import matplotlib.pyplot as plt\n",
    "%matplotlib inline"
   ]
  },
  {
   "cell_type": "markdown",
   "metadata": {},
   "source": [
    "## Lanzamiento de Moneda"
   ]
  },
  {
   "cell_type": "markdown",
   "metadata": {},
   "source": [
    "1)Cada jugada del juego consiste en lanzar repetidamente una moneda imparcial hasta que la diferencia entre el número de caras lanzadas y el numero de sellos es 3.\n",
    "\n",
    "2)Si decides jugar, debes pagar 1 peso por cada lanzamiento de la moneda. No puedes salir durante una jugada del juego.\n",
    "\n",
    "3)Usted recibe 8 pesos al final de cada juego del juego. Por lo tanto, ganas dinero si el n ́umero delanzamientos requeridos es menor a 8, pero pierdes dinero si se requieren mas de 8 lanzamientos. \n",
    "\n",
    "Con el juego planteado anteriormente, responda las siguientes preguntas:"
   ]
  },
  {
   "cell_type": "code",
   "execution_count": 46,
   "metadata": {
    "collapsed": true
   },
   "outputs": [],
   "source": [
    "n = 0\n",
    "z = 0\n",
    "k = 0\n",
    "dinero = 0\n",
    "mon = 0\n",
    "t = 0\n",
    "tir = 0\n",
    "tirtot = []\n",
    "tiradas = []\n",
    "gan = []\n",
    "efe = 0\n",
    "cash = []\n",
    "dsim = []\n",
    "gand = []\n",
    "dtotal = []\n",
    "d = []\n",
    "di = []\n",
    "din = []\n",
    "juegos = []\n",
    "probmas150 = []"
   ]
  },
  {
   "cell_type": "markdown",
   "metadata": {},
   "source": [
    "a)Cual es el promedio de tiradas hasta que termina un juego? ¿Cual es su desviacion estandar? (dibuja su histograma)."
   ]
  },
  {
   "cell_type": "code",
   "execution_count": 22,
   "metadata": {
    "collapsed": true
   },
   "outputs": [],
   "source": [
    "while t < 100 :\n",
    "    num = np.random.randint(0,2)\n",
    "    if num == 0:\n",
    "        n += 1\n",
    "        z = 0\n",
    "        if n == 3:\n",
    "            n = 0\n",
    "            tiradas.append(k)\n",
    "            k = 0\n",
    "            dinero += 8\n",
    "            \n",
    "    elif num == 1:\n",
    "        z += 1\n",
    "        n = 0\n",
    "        if z == 3:\n",
    "            z = 0\n",
    "            tiradas.append(k)\n",
    "            k = 0\n",
    "            dinero += 8\n",
    "    dinero -= 1\n",
    "    t += 1\n",
    "    k += 1"
   ]
  },
  {
   "cell_type": "code",
   "execution_count": 23,
   "metadata": {},
   "outputs": [
    {
     "name": "stdout",
     "output_type": "stream",
     "text": [
      "Promedio: 7.53846153846 Desv. est.: 4.10656855847\n"
     ]
    },
    {
     "data": {
      "text/plain": [
       "(array([ 3.,  3.,  2.,  1.,  0.,  2.,  0.,  1.,  0.,  1.]),\n",
       " array([  3. ,   4.4,   5.8,   7.2,   8.6,  10. ,  11.4,  12.8,  14.2,\n",
       "         15.6,  17. ]),\n",
       " <a list of 10 Patch objects>)"
      ]
     },
     "execution_count": 23,
     "metadata": {},
     "output_type": "execute_result"
    },
    {
     "data": {
      "image/png": "[encoded data removed]",
      "text/plain": [
       "<matplotlib.figure.Figure at 0x1131cad30>"
      ]
     },
     "metadata": {},
     "output_type": "display_data"
    }
   ],
   "source": [
    "promtir = np.mean(tiradas)\n",
    "desvesttir = np.std(tiradas)\n",
    "print(\"Promedio:\",promtir,\"Desv. est.:\",desvesttir)\n",
    "plt.hist(tiradas)"
   ]
  },
  {
   "cell_type": "markdown",
   "metadata": {},
   "source": [
    "b) Para el inciso anterior ¿Cual es la probabilidad de que tires m ́as de 10 veces para terminar un juego? ¿ y de que tires menos de 5 veces?."
   ]
  },
  {
   "cell_type": "code",
   "execution_count": 25,
   "metadata": {
    "collapsed": true
   },
   "outputs": [],
   "source": [
    "mayores = [i for i in tiradas if i > 9]\n",
    "probmayor = len(mayores)/len(tiradas)\n",
    "probmayor *= 100\n",
    "menores = [i for i in tiradas if i < 4]\n",
    "probmenor = len(menores)/len(tiradas)\n",
    "probmenor *=100"
   ]
  },
  {
   "cell_type": "code",
   "execution_count": 26,
   "metadata": {},
   "outputs": [
    {
     "name": "stdout",
     "output_type": "stream",
     "text": [
      "La probabilidad de que tire mas de 10 veces para que se acabe el juego es: 27.27272727272727\n",
      "La probabilidad de que tire menos de 5 veces para que se acabe el juego es: 18.181818181818183\n"
     ]
    }
   ],
   "source": [
    "print('La probabilidad de que tire mas de 10 veces para que se acabe el juego es:', probmayor);\n",
    "print('La probabilidad de que tire menos de 5 veces para que se acabe el juego es:', probmenor);"
   ]
  },
  {
   "cell_type": "markdown",
   "metadata": {},
   "source": [
    "c) Imagina que lanzas 100 tiros exactos la moneda. ¿Cu ́al es tu valor esperado de $$ ganado/perdido?\n",
    "¿Y tu valor m ́as probable?¿Cu ́al es la probabilidad de ganar dinero? (Grafica el histograma de simulaciones)."
   ]
  },
  {
   "cell_type": "code",
   "execution_count": 29,
   "metadata": {},
   "outputs": [],
   "source": [
    "for i in range(10):\n",
    "    for j in range(100):\n",
    "        num = np.random.randint(0,2)\n",
    "        if num == 0:\n",
    "            n += 1\n",
    "            z = 0\n",
    "            if n == 3:\n",
    "                n = 0\n",
    "                tiradas.append(k)\n",
    "                k = 0\n",
    "                dinero += 8\n",
    "\n",
    "        elif num == 1:\n",
    "            z += 1\n",
    "            n = 0\n",
    "            if z == 3:\n",
    "                z = 0\n",
    "                tiradas.append(k)\n",
    "                k = 0\n",
    "                dinero += 8\n",
    "        dinero -= 1\n",
    "        k += 1\n",
    "        \n",
    "    din.append(dinero)\n",
    "    juegos.append(tiradas)\n",
    "    dinero = 0"
   ]
  },
  {
   "cell_type": "code",
   "execution_count": 30,
   "metadata": {},
   "outputs": [
    {
     "name": "stdout",
     "output_type": "stream",
     "text": [
      "Promedio: 7.53846153846 Desv. est.: 4.10656855847\n",
      "Probabilidad de ganar: 80.0\n",
      "Mas probable: 12\n"
     ]
    },
    {
     "data": {
      "image/png": "[encoded data removed]",
      "text/plain": [
       "<matplotlib.figure.Figure at 0x1146da940>"
      ]
     },
     "metadata": {},
     "output_type": "display_data"
    }
   ],
   "source": [
    "promdin = np.mean(din)\n",
    "masprob = st.mode(din)\n",
    "gandin = [i for i in din if i > 0]\n",
    "probgandin = len(gandin)/len(din) * 100\n",
    "print(\"Promedio:\",promtir,\"Desv. est.:\",desvesttir)\n",
    "print(\"Probabilidad de ganar:\",probgandin)\n",
    "print(\"Mas probable:\",masprob)\n",
    "fig, ax = plt.subplots(1,2)\n",
    "ax[0].hist(juegos)\n",
    "ax[1].hist(din)\n",
    "plt.show()"
   ]
  },
  {
   "cell_type": "markdown",
   "metadata": {},
   "source": [
    "D) Imagina que comienzas con 30 pesos ¿Cual es el valor esperado del numero de tiradas que debes realizar antes de quedarte sin dinero? ¿Cual es la probabilidad de realizar m ́as de 150 tiradas? (grafica el histograma correspondiente)."
   ]
  },
  {
   "cell_type": "code",
   "execution_count": 39,
   "metadata": {
    "collapsed": true
   },
   "outputs": [],
   "source": [
    "dinero = 30\n",
    "for i in range(10):   \n",
    "    for j in range(1000):\n",
    "        num = np.random.randint(0,2)\n",
    "        if num == 0:\n",
    "            n += 1\n",
    "            z = 0\n",
    "            if n == 3:\n",
    "                n = 0\n",
    "                tiradas.append(k)\n",
    "                k = 0\n",
    "                dinero += 8\n",
    "\n",
    "        elif num == 1:\n",
    "            z += 1\n",
    "            n = 0\n",
    "            if z == 3:\n",
    "                z = 0\n",
    "                tiradas.append(k)\n",
    "                k = 0\n",
    "                dinero += 8\n",
    "        dinero -= 1\n",
    "        k += 1\n",
    "        tir += 1 \n",
    "\n",
    "        if dinero < 1:\n",
    "            break\n",
    "            tir = 0\n",
    "\n",
    "    tirtot.append(tir)\n",
    "    din.append(dinero)\n",
    "    juegos.append(tiradas)\n",
    "    dinero = 30\n",
    "    tir = 0"
   ]
  },
  {
   "cell_type": "code",
   "execution_count": 40,
   "metadata": {},
   "outputs": [
    {
     "data": {
      "text/plain": [
       "(array([ 1.,  0.,  0.,  0.,  0.,  0.,  0.,  0.,  0.,  9.]),\n",
       " array([  190.,   271.,   352.,   433.,   514.,   595.,   676.,   757.,\n",
       "          838.,   919.,  1000.]),\n",
       " <a list of 10 Patch objects>)"
      ]
     },
     "execution_count": 40,
     "metadata": {},
     "output_type": "execute_result"
    },
    {
     "data": {
      "image/png": "[encoded data removed]",
      "text/plain": [
       "<matplotlib.figure.Figure at 0x114aea278>"
      ]
     },
     "metadata": {},
     "output_type": "display_data"
    }
   ],
   "source": [
    "promtiros = np.mean(tirtot)\n",
    "mas150 = [i for i in tirtot if i > 150]\n",
    "probmas150 = len(mas150)/len(tirtot) * 100\n",
    "plt.hist(tirtot)"
   ]
  },
  {
   "cell_type": "code",
   "execution_count": 34,
   "metadata": {},
   "outputs": [
    {
     "name": "stdout",
     "output_type": "stream",
     "text": [
      "el promedio de tirado es 1000.0\n",
      "la probabilidad de realizar mas de 150 tiradas es 100.0\n"
     ]
    }
   ],
   "source": [
    "print('el promedio de tirado es', promtiros)\n",
    "print('la probabilidad de realizar mas de 150 tiradas es', probmas150)"
   ]
  },
  {
   "cell_type": "markdown",
   "metadata": {},
   "source": [
    "## 2. Kitchen appliances "
   ]
  },
  {
   "cell_type": "markdown",
   "metadata": {},
   "source": [
    "Esta empresa antes de revisar la politica de inventario de estufas, regista el numeor vendido cada dia durante 25 dias."
   ]
  },
  {
   "cell_type": "markdown",
   "metadata": {},
   "source": [
    "Máquinas vendidas \t2 \t3 \t4 \t5  6\n",
    "Número de días \t    4 \t7 \t8 \t5  1 \t"
   ]
  },
  {
   "cell_type": "code",
   "execution_count": 42,
   "metadata": {},
   "outputs": [
    {
     "data": {
      "text/plain": [
       "(array([ 6.,  0.,  0.,  0.,  2.,  5.,  0.,  0.,  3.,  4.]),\n",
       " array([ 1. ,  1.7,  2.4,  3.1,  3.8,  4.5,  5.2,  5.9,  6.6,  7.3,  8. ]),\n",
       " <a list of 10 Patch objects>)"
      ]
     },
     "execution_count": 42,
     "metadata": {},
     "output_type": "execute_result"
    },
    {
     "data": {
      "image/png": "[encoded data removed]",
      "text/plain": [
       "<matplotlib.figure.Figure at 0x114a2cf98>"
      ]
     },
     "metadata": {},
     "output_type": "display_data"
    }
   ],
   "source": [
    "dias = [4,4,7,7,7,8,8,8,8,5,5,5,5,5,1,1,1,1,1,1]\n",
    "plt.hist(dias)"
   ]
  },
  {
   "cell_type": "code",
   "execution_count": 43,
   "metadata": {},
   "outputs": [
    {
     "name": "stdout",
     "output_type": "stream",
     "text": [
      "El promedio de dias: 4.6\n"
     ]
    }
   ],
   "source": [
    "promdias = np.mean(dias)\n",
    "print(\"El promedio de dias:\",promdias)"
   ]
  },
  {
   "cell_type": "markdown",
   "metadata": {},
   "source": [
    "## 3. Rustbelt Manufacturing Company "
   ]
  },
  {
   "cell_type": "markdown",
   "metadata": {},
   "source": [
    "Emplea un equipo de mantenimiento para reparar sus maquinas segun sea necesario. La gerencia ahora quiere un estudio de simulacion para analizar cu ́al debe ser el tamaño de la tripulacion, donde los tamaños de la cuadrilla considerados son 2, 3 y 4. El tiempo requerido por lacuadrilla para reparar una maquina tiene una distribucion uniforme durante el intervalo de 0 a dos veces la media, donde la media depende del tamaño de la cuadrilla.\n",
    "La media es de 4 horas con dos miembros de la cuadrilla, 3 horas con tres miembros de la cuadrilla y 2 horas con cuatro miembros de la cuadrilla. El tiempo entre las interrupciones de alguna m ́aquina tiene una distribuci ́on uniforme de entre 3.5 y 9 horas. Cuando una m ́aquina se descompone y por lo tanto requiere reparacion, la gerencia desea realizar los siguientes an ́alisis:"
   ]
  },
  {
   "cell_type": "code",
   "execution_count": 47,
   "metadata": {
    "collapsed": true
   },
   "outputs": [],
   "source": [
    "te = []\n",
    "def mant(x):\n",
    "    for i in range(1000):\n",
    "        num = np.random.uniform(0.1,2)\n",
    "        num1 = np.random.uniform(3.5,9)\n",
    "        if x == 2:\n",
    "            t = 4 * num + num1\n",
    "        elif x == 3:\n",
    "            t = 3 * num + num1\n",
    "        elif x == 4:\n",
    "            t = 2 * num + num1\n",
    "        te.append(t) \n",
    "    return te"
   ]
  },
  {
   "cell_type": "code",
   "execution_count": 50,
   "metadata": {},
   "outputs": [
    {
     "name": "stdout",
     "output_type": "stream",
     "text": [
      "el tiempo promedio de espera para reparar una maquina es 10.439769625\n",
      "la probabilidad para que sea mas de ocho es: 79.36666666666666\n"
     ]
    },
    {
     "data": {
      "text/plain": [
       "(array([  87.,  198.,  310.,  441.,  478.,  473.,  446.,  300.,  206.,   61.]),\n",
       " array([  4.11293818,   5.38841779,   6.6638974 ,   7.93937701,\n",
       "          9.21485663,  10.49033624,  11.76581585,  13.04129546,\n",
       "         14.31677508,  15.59225469,  16.8677343 ]),\n",
       " <a list of 10 Patch objects>)"
      ]
     },
     "execution_count": 50,
     "metadata": {},
     "output_type": "execute_result"
    },
    {
     "data": {
      "image/png": "[encoded data removed]",
      "text/plain": [
       "<matplotlib.figure.Figure at 0x11318aa20>"
      ]
     },
     "metadata": {},
     "output_type": "display_data"
    }
   ],
   "source": [
    "promte2 = 0\n",
    "te2 = mant(2)\n",
    "promte2 = np.mean(te2)\n",
    "mas8 = [i for i in te2 if i > 8]\n",
    "probmas8 = len(mas8)/len(te2) * 100\n",
    "print('el tiempo promedio de espera para reparar una maquina es', promte2)\n",
    "print('la probabilidad para que sea mas de ocho es:', probmas8 )\n",
    "plt.hist(te2)\n"
   ]
  },
  {
   "cell_type": "code",
   "execution_count": 52,
   "metadata": {},
   "outputs": [
    {
     "data": {
      "text/plain": [
       "(array([ 112.,  354.,  566.,  803.,  931.,  832.,  667.,  438.,  234.,   63.]),\n",
       " array([  3.82097644,   5.12565222,   6.43032801,   7.7350038 ,\n",
       "          9.03967958,  10.34435537,  11.64903115,  12.95370694,\n",
       "         14.25838273,  15.56305851,  16.8677343 ]),\n",
       " <a list of 10 Patch objects>)"
      ]
     },
     "execution_count": 52,
     "metadata": {},
     "output_type": "execute_result"
    },
    {
     "data": {
      "image/png": "[encoded data removed]",
      "text/plain": [
       "<matplotlib.figure.Figure at 0x114bc1a58>"
      ]
     },
     "metadata": {},
     "output_type": "display_data"
    }
   ],
   "source": [
    "t3 = mant(3)\n",
    "promte3 = np.mean(t3)\n",
    "mas3 = [i for i in t3 if i > 3]\n",
    "probmas3 = len(mas3)/len(t3) * 100\n",
    "plt.hist(t3)"
   ]
  },
  {
   "cell_type": "code",
   "execution_count": 53,
   "metadata": {},
   "outputs": [
    {
     "name": "stdout",
     "output_type": "stream",
     "text": [
      "el tiempo promedio de espera para reparar una maquina es 10.0262347546\n",
      "la probabilidad para que sea mas de 3 horas es: 100.0\n"
     ]
    }
   ],
   "source": [
    "print('el tiempo promedio de espera para reparar una maquina es', promte3)\n",
    "print('la probabilidad para que sea mas de 3 horas es:', probmas3 )"
   ]
  },
  {
   "cell_type": "code",
   "execution_count": 54,
   "metadata": {},
   "outputs": [
    {
     "data": {
      "text/plain": [
       "(array([  163.,   470.,   779.,  1036.,  1135.,   966.,   716.,   438.,\n",
       "          234.,    63.]),\n",
       " array([  3.82097644,   5.12565222,   6.43032801,   7.7350038 ,\n",
       "          9.03967958,  10.34435537,  11.64903115,  12.95370694,\n",
       "         14.25838273,  15.56305851,  16.8677343 ]),\n",
       " <a list of 10 Patch objects>)"
      ]
     },
     "execution_count": 54,
     "metadata": {},
     "output_type": "execute_result"
    },
    {
     "data": {
      "image/png": "[encoded data removed]",
      "text/plain": [
       "<matplotlib.figure.Figure at 0x114c66ac8>"
      ]
     },
     "metadata": {},
     "output_type": "display_data"
    }
   ],
   "source": [
    "te4 = mant(4)\n",
    "promte4 = np.mean(te4)\n",
    "mas = [i for i in te4 if i > 3]\n",
    "probmas = len(mas)/len(te4) * 100\n",
    "plt.hist(te4)"
   ]
  },
  {
   "cell_type": "code",
   "execution_count": 55,
   "metadata": {},
   "outputs": [
    {
     "name": "stdout",
     "output_type": "stream",
     "text": [
      "el tiempo promedio de espera para reparar una maquina es 9.75914462614\n",
      "la probabilidad para que sea mas de 3 horas es: 100.0\n"
     ]
    }
   ],
   "source": [
    "print('el tiempo promedio de espera para reparar una maquina es', promte4)\n",
    "print('la probabilidad para que sea mas de 3 horas es:', probmas )"
   ]
  },
  {
   "cell_type": "markdown",
   "metadata": {},
   "source": [
    "## 4. Juego de dados"
   ]
  },
  {
   "cell_type": "markdown",
   "metadata": {},
   "source": [
    "El juego de dados requiere que el jugador arroje dos dados una o mas veces hasta que se llegue a una decision sobre si el (o ella) gana o pierde.\n",
    "El gana si la primera tirada resulta en una suma de 7 u 11 o, alternativamente, si la primera suma es 4, 5, 6, 8, 9 o 10 y la\n",
    "misma suma reaparece antes de que aparezca una suma de 7. Por el contrario, pierde si la primera tirada resulta en una suma de 2, 3 o 12 o,\n",
    "alternativamente, si la primera suma es 4, 5, 6, 8, 9 o 10 y aparece una suma de 7 antes de la primera suma reaparece."
   ]
  },
  {
   "cell_type": "code",
   "execution_count": 63,
   "metadata": {
    "collapsed": true
   },
   "outputs": [],
   "source": [
    "for i in range(10000):    \n",
    "    while True:\n",
    "        dado = np.random.randint(1,7)\n",
    "        dado1 = np.random.randint(1,7)\n",
    "        if dado + dado1 == 7 or dado + dado1 == 11:\n",
    "            \n",
    "            gan.append(1)\n",
    "            break\n",
    "\n",
    "        elif dado + dado1 == 2 or dado + dado1 ==3 or dado + dado1 == 12:\n",
    "            \n",
    "            gan.append(0)\n",
    "            break\n",
    "\n",
    "        elif 3 < dado + dado1 < 7 or 7 < dado + dado1 < 11:\n",
    "            while True:\n",
    "                dado = np.random.randint(1,7)\n",
    "                dado1 = np.random.randint(1,7)\n",
    "                if 3 < dado + dado1 < 7 or 7 < dado + dado1 < 11:\n",
    "                    gan.append(1)\n",
    "                    break\n",
    "\n",
    "                elif dado + dado1 == 7:\n",
    "                    gan.append(0)\n",
    "                    break\n",
    "\n",
    "    "
   ]
  },
  {
   "cell_type": "code",
   "execution_count": 64,
   "metadata": {},
   "outputs": [
    {
     "name": "stdout",
     "output_type": "stream",
     "text": [
      "su probabilidad de ganar corriendo 10,000 simulaciones es de 75.05106311736147\n"
     ]
    }
   ],
   "source": [
    "ganar = [i for i in gan if i == 1]\n",
    "probganar = len(ganar)/len(gan)*100\n",
    "print('su probabilidad de ganar corriendo 10,000 simulaciones es de' ,probganar)"
   ]
  },
  {
   "cell_type": "markdown",
   "metadata": {},
   "source": [
    "Imagina que cada juego ganas o pierdes 50 pesos. Si inicias con 500 pesos. ¿Cual es tu valor esperado de dinero\n",
    "despues de 10 juegos? ¿y el m ́as probable? ¿Cual es la probabilidad de ganar dinero?."
   ]
  },
  {
   "cell_type": "code",
   "execution_count": 88,
   "metadata": {
    "collapsed": true
   },
   "outputs": [],
   "source": [
    "for i in range(10):    \n",
    "    while True:\n",
    "        dado = np.random.randint(1,7)\n",
    "        dado1 = np.random.randint(1,7)\n",
    "        if dado + dado1 == 7 or dado + dado1 == 11:\n",
    "            gan.append(1)\n",
    "            efe += 50\n",
    "            break\n",
    "\n",
    "        elif dado + dado1 == 2 or dado + dado1 ==3 or dado + dado1 == 12:\n",
    "            \n",
    "            gan.append(0)\n",
    "            efe -= 50\n",
    "            break\n",
    "\n",
    "        elif 3 < dado + dado1 < 7 or 7 < dado + dado1 < 11:\n",
    "            while True:\n",
    "                dado = np.random.randint(1,7)\n",
    "                dado1 = np.random.randint(1,7)\n",
    "                if 3 < dado + dado1 < 7 or 7 < dado + dado1 < 11:\n",
    "                    gan.append(1)\n",
    "                    efe += 50\n",
    "                    break\n",
    "\n",
    "                elif dado + dado1 == 7:\n",
    "                    gan.append(0)\n",
    "                    efe -= 50\n",
    "                    break\n",
    "                    \n",
    "    cash.append(efe)\n",
    "    efe = 0"
   ]
  },
  {
   "cell_type": "code",
   "execution_count": 89,
   "metadata": {},
   "outputs": [
    {
     "name": "stdout",
     "output_type": "stream",
     "text": [
      "su probabilidad de ganar es: 70.0\n",
      "su promedio despues de 10 juegos es: 65.0\n",
      "El mas probabe de ganar o perder es 100\n"
     ]
    }
   ],
   "source": [
    "promcash = np.mean(cash)\n",
    "masprobcash = st.mode(cash)\n",
    "gancash = [i for i in cash if i > 0]\n",
    "probgan = len(gancash)/len(cash)*100\n",
    "print('su probabilidad de ganar es:', probgan)\n",
    "print('su promedio despues de 10 juegos es:', promcash)\n",
    "print('El mas probabe de ganar o perder es', masprobcash)"
   ]
  },
  {
   "cell_type": "markdown",
   "metadata": {},
   "source": [
    "## 5. Cetes"
   ]
  },
  {
   "cell_type": "markdown",
   "metadata": {},
   "source": [
    "Una inversión en cetes actualmente promete un rendimiento que va entre el 8 % y el 12 % anual."
   ]
  },
  {
   "cell_type": "code",
   "execution_count": 85,
   "metadata": {
    "collapsed": true
   },
   "outputs": [],
   "source": [
    "for i in range(10000):\n",
    "    num = np.random.uniform(.08,.121)\n",
    "    \n",
    "    di = 300000 * num\n",
    "    \n",
    "    d.append(di)"
   ]
  },
  {
   "cell_type": "code",
   "execution_count": 86,
   "metadata": {},
   "outputs": [
    {
     "name": "stdout",
     "output_type": "stream",
     "text": [
      "El promedio es: 30129.6957171\n",
      "La desviacion estandar es: 3575.68783192\n"
     ]
    },
    {
     "data": {
      "text/plain": [
       "(array([ 2280.,  2153.,  2180.,  2105.,  2299.,  2077.,  2141.,  2206.,\n",
       "         2080.,  2279.]),\n",
       " array([ 24000.        ,  25229.95068834,  26459.90137669,  27689.85206503,\n",
       "         28919.80275337,  30149.75344171,  31379.70413006,  32609.6548184 ,\n",
       "         33839.60550674,  35069.55619508,  36299.50688343]),\n",
       " <a list of 10 Patch objects>)"
      ]
     },
     "execution_count": 86,
     "metadata": {},
     "output_type": "execute_result"
    },
    {
     "data": {
      "image/png": "[encoded data removed]",
      "text/plain": [
       "<matplotlib.figure.Figure at 0x1b96cd3df60>"
      ]
     },
     "metadata": {},
     "output_type": "display_data"
    }
   ],
   "source": [
    "promren = np.mean(d)\n",
    "desvestren = np.std(d)\n",
    "print(\"El promedio es:\",promren)\n",
    "print(\"La desviacion estandar es:\",desvestren)\n",
    "plt.hist(d)"
   ]
  },
  {
   "cell_type": "code",
   "execution_count": 83,
   "metadata": {
    "collapsed": true
   },
   "outputs": [],
   "source": [
    "for i in range(100):\n",
    "    for j in range(6):\n",
    "        num = np.random.uniform(.08,.121)\n",
    "    \n",
    "        di = 300000 * num\n",
    "\n",
    "        d.append(di)\n",
    "    mon = sum(d)\n",
    "    dtotal.append(mon)\n"
   ]
  },
  {
   "cell_type": "code",
   "execution_count": 84,
   "metadata": {},
   "outputs": [
    {
     "name": "stdout",
     "output_type": "stream",
     "text": [
      "El promedio es: 328444774.758\n",
      "La desviacion estandar es: 15699236.4719\n"
     ]
    },
    {
     "data": {
      "text/plain": [
       "(array([ 31.,  29.,  30.,  30.,  30.,  30.,  29.,  30.,  31.,  30.]),\n",
       " array([  3.01318401e+08,   3.06735467e+08,   3.12152532e+08,\n",
       "          3.17569598e+08,   3.22986664e+08,   3.28403730e+08,\n",
       "          3.33820796e+08,   3.39237862e+08,   3.44654927e+08,\n",
       "          3.50071993e+08,   3.55489059e+08]),\n",
       " <a list of 10 Patch objects>)"
      ]
     },
     "execution_count": 84,
     "metadata": {},
     "output_type": "execute_result"
    },
    {
     "data": {
      "image/png": "[encoded data removed]",
      "text/plain": [
       "<matplotlib.figure.Figure at 0x1b96b40e4e0>"
      ]
     },
     "metadata": {},
     "output_type": "display_data"
    }
   ],
   "source": [
    "promdsim = np.mean(dtotal)\n",
    "desvestdsim = np.std(dtotal)\n",
    "print(\"El promedio es:\",promdsim)\n",
    "print(\"La desviacion estandar es:\",desvestdsim)\n",
    "plt.hist(dtotal)"
   ]
  },
  {
   "cell_type": "code",
   "execution_count": 82,
   "metadata": {},
   "outputs": [
    {
     "name": "stdout",
     "output_type": "stream",
     "text": [
      "La probabilidad de ganar mas de 58000: 100.0\n",
      "La probabilidad de ganar menos de 55000: 0.0\n"
     ]
    }
   ],
   "source": [
    "gand = [i for i in dtotal if i > 58000]\n",
    "probgand = len(gand)/len(dtotal)* 100\n",
    "\n",
    "gmin = [i for i in dtotal if i < 55000]\n",
    "probmin = len(gmin)/len(dtotal) * 100\n",
    "\n",
    "print(\"La probabilidad de ganar mas de 58000:\",probgand)\n",
    "print(\"La probabilidad de ganar menos de 55000:\",probmin)"
   ]
  },
  {
   "cell_type": "code",
   "execution_count": 79,
   "metadata": {
    "collapsed": true
   },
   "outputs": [],
   "source": [
    "for i in range(100):\n",
    "    for j in range(6):\n",
    "        num = np.random.randint(8,13)\n",
    "        ran = np.random.randint(0,2)\n",
    "        \n",
    "\n",
    "        di = 300000 * num /100\n",
    "\n",
    "\n",
    "        d.append(di)\n",
    "    mon = sum(d)\n",
    "    dtotal.append(mon)\n",
    "\n"
   ]
  },
  {
   "cell_type": "code",
   "execution_count": 81,
   "metadata": {},
   "outputs": [
    {
     "name": "stdout",
     "output_type": "stream",
     "text": [
      "El promedio es: 319385227.508\n",
      "La desviacion estandar es: 10485886.4536\n",
      "La probabilidad de ganar entre 53000 y 56000: 100.0\n"
     ]
    },
    {
     "data": {
      "text/plain": [
       "(array([ 21.,  19.,  20.,  20.,  20.,  20.,  20.,  20.,  20.,  20.]),\n",
       " array([  3.01318401e+08,   3.04933082e+08,   3.08547763e+08,\n",
       "          3.12162444e+08,   3.15777126e+08,   3.19391807e+08,\n",
       "          3.23006488e+08,   3.26621169e+08,   3.30235850e+08,\n",
       "          3.33850531e+08,   3.37465213e+08]),\n",
       " <a list of 10 Patch objects>)"
      ]
     },
     "execution_count": 81,
     "metadata": {},
     "output_type": "execute_result"
    },
    {
     "data": {
      "image/png": "[encoded data removed]",
      "text/plain": [
       "<matplotlib.figure.Figure at 0x1b96b368908>"
      ]
     },
     "metadata": {},
     "output_type": "display_data"
    }
   ],
   "source": [
    "entrenum = [i for i in dtotal if 530000 < i < 560000]\n",
    "probentrenum = len(entrenum)/len(dtotal)\n",
    "promd = np.mean(dtotal)\n",
    "estdev = np.std(dtotal)\n",
    "print(\"El promedio es:\",promd)\n",
    "print(\"La desviacion estandar es:\",estdev)\n",
    "print(\"La probabilidad de ganar entre 53000 y 56000:\",probgand)\n",
    "plt.hist(dtotal)\n"
   ]
  },
  {
   "cell_type": "code",
   "execution_count": null,
   "metadata": {
    "collapsed": true
   },
   "outputs": [],
   "source": []
  }
 ],
 "metadata": {
  "kernelspec": {
   "display_name": "Python 3",
   "language": "python",
   "name": "python3"
  },
  "language_info": {
   "codemirror_mode": {
    "name": "ipython",
    "version": 3
   },
   "file_extension": ".py",
   "mimetype": "text/x-python",
   "name": "python",
   "nbconvert_exporter": "python",
   "pygments_lexer": "ipython3",
   "version": "3.6.4"
  }
 },
 "nbformat": 4,
 "nbformat_minor": 2
}
